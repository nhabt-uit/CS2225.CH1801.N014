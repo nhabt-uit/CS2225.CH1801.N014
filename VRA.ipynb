{
  "nbformat": 4,
  "nbformat_minor": 0,
  "metadata": {
    "kernelspec": {
      "display_name": "Python 3",
      "language": "python",
      "name": "python3"
    },
    "language_info": {
      "codemirror_mode": {
        "name": "ipython",
        "version": 3
      },
      "file_extension": ".py",
      "mimetype": "text/x-python",
      "name": "python",
      "nbconvert_exporter": "python",
      "pygments_lexer": "ipython3",
      "version": "3.7.6"
    },
    "colab": {
      "name": "VRA.ipynb",
      "provenance": [],
      "collapsed_sections": [],
      "include_colab_link": true
    },
    "accelerator": "GPU"
  },
  "cells": [
    {
      "cell_type": "markdown",
      "metadata": {
        "id": "view-in-github",
        "colab_type": "text"
      },
      "source": [
        "<a href=\"https://colab.research.google.com/github/nhabt-uit/CS2225.CH1801.N014/blob/NhaBT/VRA.ipynb\" target=\"_parent\"><img src=\"https://colab.research.google.com/assets/colab-badge.svg\" alt=\"Open In Colab\"/></a>"
      ]
    },
    {
      "cell_type": "markdown",
      "metadata": {
        "id": "Zf8QW0VM6NHo"
      },
      "source": [
        "## Import required libraries"
      ]
    },
    {
      "cell_type": "code",
      "metadata": {
        "colab": {
          "base_uri": "https://localhost:8080/"
        },
        "id": "OsOtjySg6mem",
        "outputId": "075185bc-73f2-41f5-a985-f38b086f1635"
      },
      "source": [
        "from google.colab import drive\r\n",
        "drive.mount('/content/drive')"
      ],
      "execution_count": 2,
      "outputs": [
        {
          "output_type": "stream",
          "text": [
            "Mounted at /content/drive\n"
          ],
          "name": "stdout"
        }
      ]
    },
    {
      "cell_type": "code",
      "metadata": {
        "colab": {
          "base_uri": "https://localhost:8080/"
        },
        "id": "jIRjPWgZ6n_6",
        "outputId": "cc65babf-6d0e-437d-e86a-1aea5d58d647"
      },
      "source": [
        "cd /content/drive/My Drive/VRA-CS2225.CH1801.N014"
      ],
      "execution_count": 3,
      "outputs": [
        {
          "output_type": "stream",
          "text": [
            "/content/drive/My Drive/VRA-CS2225.CH1801.N014\n"
          ],
          "name": "stdout"
        }
      ]
    },
    {
      "cell_type": "code",
      "metadata": {
        "id": "t1-I4d3B6NHx"
      },
      "source": [
        "import numpy as np \n",
        "import pandas as pd \n",
        "import matplotlib.pyplot as plt\n",
        "import cv2\n",
        "import tensorflow as tf\n",
        "from PIL import Image\n",
        "import os\n",
        "os.chdir('/content/drive/My Drive/VRA-CS2225.CH1801.N014')\n",
        "from sklearn.model_selection import train_test_split\n",
        "from keras.utils import to_categorical\n",
        "from keras.models import Sequential, load_model\n",
        "from keras.layers import Conv2D, MaxPool2D, Dense, Flatten, Dropout"
      ],
      "execution_count": 4,
      "outputs": []
    },
    {
      "cell_type": "markdown",
      "metadata": {
        "id": "J9HJwMCT6NHy"
      },
      "source": [
        "## Store data, labels in the list"
      ]
    },
    {
      "cell_type": "code",
      "metadata": {
        "id": "dORR9pyc6NHz"
      },
      "source": [
        "data = []\n",
        "labels = []\n",
        "classes = 5\n",
        "cur_path = os.getcwd()"
      ],
      "execution_count": 6,
      "outputs": []
    },
    {
      "cell_type": "code",
      "metadata": {
        "colab": {
          "base_uri": "https://localhost:8080/",
          "height": 35
        },
        "id": "Sjkn6M7o6NHz",
        "outputId": "98a9d0f0-acf3-41bd-f7f8-a876b602ea42"
      },
      "source": [
        "cur_path"
      ],
      "execution_count": 7,
      "outputs": [
        {
          "output_type": "execute_result",
          "data": {
            "application/vnd.google.colaboratory.intrinsic+json": {
              "type": "string"
            },
            "text/plain": [
              "'/content/drive/My Drive/VRA-CS2225.CH1801.N014'"
            ]
          },
          "metadata": {
            "tags": []
          },
          "execution_count": 7
        }
      ]
    },
    {
      "cell_type": "markdown",
      "metadata": {
        "id": "meVKXWzf6NH0"
      },
      "source": [
        "## Preprocess the images"
      ]
    },
    {
      "cell_type": "code",
      "metadata": {
        "id": "Y4piSazV6NH0"
      },
      "source": [
        "for i in range(classes):\n",
        "    path = os.path.join(cur_path,'/content/drive/My Drive/VRA-CS2225.CH1801.N014/vra/train',str(i))\n",
        "    images = os.listdir(path)\n",
        "    for a in images:\n",
        "        try:\n",
        "            image = Image.open(path + '/'+ a)\n",
        "            image = image.resize((30,30))\n",
        "            image = np.array(image)\n",
        "            data.append(image)\n",
        "            labels.append(i)\n",
        "        except Exception as e:\n",
        "            print(e)"
      ],
      "execution_count": null,
      "outputs": []
    },
    {
      "cell_type": "markdown",
      "metadata": {
        "id": "YEH21DOs6NH0"
      },
      "source": [
        "## Converting lists into numpy arrays"
      ]
    },
    {
      "cell_type": "code",
      "metadata": {
        "id": "NMSER2Ic6NH1"
      },
      "source": [
        "data = np.array(data)\n",
        "labels = np.array(labels)"
      ],
      "execution_count": null,
      "outputs": []
    },
    {
      "cell_type": "markdown",
      "metadata": {
        "id": "2n2EzHB36NH1"
      },
      "source": [
        "## Save Labels & Data for future use"
      ]
    },
    {
      "cell_type": "code",
      "metadata": {
        "id": "Mto71GjD6NH1"
      },
      "source": [
        "np.save('/content/drive/My Drive/VRA-CS2225.CH1801.N014/vra/data',data)\n",
        "np.save('/content/drive/My Drive/VRA-CS2225.CH1801.N014/vra/target',labels)"
      ],
      "execution_count": null,
      "outputs": []
    },
    {
      "cell_type": "markdown",
      "metadata": {
        "id": "11egjhHm6NH1"
      },
      "source": [
        "## Load data & Labels"
      ]
    },
    {
      "cell_type": "code",
      "metadata": {
        "id": "F3UhgKcl6NH2"
      },
      "source": [
        "data=np.load('/content/drive/My Drive/VRA-CS2225.CH1801.N014/vra/data.npy')\n",
        "labels=np.load('/content/drive/My Drive/VRA-CS2225.CH1801.N014/vra/target.npy')"
      ],
      "execution_count": null,
      "outputs": []
    },
    {
      "cell_type": "code",
      "metadata": {
        "id": "jGYwUXC-6NH2",
        "colab": {
          "base_uri": "https://localhost:8080/"
        },
        "outputId": "42dd6891-76d1-47bf-f9be-bf6fdab966cc"
      },
      "source": [
        "print(data.shape, labels.shape)"
      ],
      "execution_count": null,
      "outputs": [
        {
          "output_type": "stream",
          "text": [
            "(3150, 30, 30, 3) (3150,)\n"
          ],
          "name": "stdout"
        }
      ]
    },
    {
      "cell_type": "code",
      "metadata": {
        "id": "FxeKhEHF6NH2"
      },
      "source": [
        "X_train, X_test, y_train, y_test = train_test_split(data, labels, test_size=0.2, random_state=0)"
      ],
      "execution_count": null,
      "outputs": []
    },
    {
      "cell_type": "code",
      "metadata": {
        "id": "ArjAdoWY6NH2",
        "colab": {
          "base_uri": "https://localhost:8080/"
        },
        "outputId": "f511ca69-5327-45ea-fcb4-867199b38d53"
      },
      "source": [
        "print(X_train.shape, X_test.shape, y_train.shape, y_test.shape)"
      ],
      "execution_count": null,
      "outputs": [
        {
          "output_type": "stream",
          "text": [
            "(2520, 30, 30, 3) (630, 30, 30, 3) (2520,) (630,)\n"
          ],
          "name": "stdout"
        }
      ]
    },
    {
      "cell_type": "markdown",
      "metadata": {
        "id": "Qa4y5u-Y6NH3"
      },
      "source": [
        "## Convert labels to onehot encoding"
      ]
    },
    {
      "cell_type": "code",
      "metadata": {
        "id": "oqEiln066NH3"
      },
      "source": [
        "y_train = to_categorical(y_train, 43)\n",
        "y_test = to_categorical(y_test, 43)"
      ],
      "execution_count": null,
      "outputs": []
    },
    {
      "cell_type": "markdown",
      "metadata": {
        "id": "kuEtPbe36NH3"
      },
      "source": [
        "## Now it's time to build the model"
      ]
    },
    {
      "cell_type": "code",
      "metadata": {
        "id": "HFDuWpW96NH3"
      },
      "source": [
        "model = Sequential()\n",
        "model.add(Conv2D(filters=32, kernel_size=(5,5), activation='relu', input_shape=X_train.shape[1:]))\n",
        "model.add(Conv2D(filters=32, kernel_size=(5,5), activation='relu'))\n",
        "model.add(MaxPool2D(pool_size=(2, 2)))\n",
        "model.add(Dropout(rate=0.25))\n",
        "model.add(Conv2D(filters=64, kernel_size=(3, 3), activation='relu'))\n",
        "model.add(Conv2D(filters=64, kernel_size=(3, 3), activation='relu'))\n",
        "model.add(MaxPool2D(pool_size=(2, 2)))\n",
        "model.add(Dropout(rate=0.25))\n",
        "model.add(Flatten())\n",
        "model.add(Dense(256, activation='relu'))\n",
        "model.add(Dropout(rate=0.5))\n",
        "model.add(Dense(43, activation='softmax'))"
      ],
      "execution_count": null,
      "outputs": []
    },
    {
      "cell_type": "code",
      "metadata": {
        "id": "vKxNVWAq6NH4"
      },
      "source": [
        "#Compilation of the model\n",
        "model.compile(loss='categorical_crossentropy', optimizer='adam', metrics=['accuracy'])"
      ],
      "execution_count": null,
      "outputs": []
    },
    {
      "cell_type": "code",
      "metadata": {
        "id": "jZSFcz-86NH4",
        "colab": {
          "base_uri": "https://localhost:8080/"
        },
        "outputId": "badb2662-7632-403c-89a5-cf8c9a8f993c"
      },
      "source": [
        "epochs = 20\n",
        "history = model.fit(X_train, y_train, batch_size=32, epochs=epochs, validation_data=(X_test, y_test))"
      ],
      "execution_count": null,
      "outputs": [
        {
          "output_type": "stream",
          "text": [
            "Epoch 1/20\n",
            "79/79 [==============================] - 7s 7ms/step - loss: 7.1064 - accuracy: 0.4961 - val_loss: 0.1874 - val_accuracy: 0.9603\n",
            "Epoch 2/20\n",
            "79/79 [==============================] - 0s 5ms/step - loss: 0.2122 - accuracy: 0.9385 - val_loss: 0.0564 - val_accuracy: 0.9857\n",
            "Epoch 3/20\n",
            "79/79 [==============================] - 0s 4ms/step - loss: 0.1129 - accuracy: 0.9689 - val_loss: 0.0359 - val_accuracy: 0.9968\n",
            "Epoch 4/20\n",
            "79/79 [==============================] - 0s 4ms/step - loss: 0.0712 - accuracy: 0.9845 - val_loss: 0.0123 - val_accuracy: 0.9984\n",
            "Epoch 5/20\n",
            "79/79 [==============================] - 0s 4ms/step - loss: 0.0889 - accuracy: 0.9755 - val_loss: 0.0205 - val_accuracy: 0.9968\n",
            "Epoch 6/20\n",
            "79/79 [==============================] - 0s 4ms/step - loss: 0.0374 - accuracy: 0.9928 - val_loss: 0.0074 - val_accuracy: 0.9984\n",
            "Epoch 7/20\n",
            "79/79 [==============================] - 0s 4ms/step - loss: 0.0397 - accuracy: 0.9906 - val_loss: 0.0781 - val_accuracy: 0.9841\n",
            "Epoch 8/20\n",
            "79/79 [==============================] - 0s 4ms/step - loss: 0.0886 - accuracy: 0.9754 - val_loss: 0.0217 - val_accuracy: 0.9968\n",
            "Epoch 9/20\n",
            "79/79 [==============================] - 0s 4ms/step - loss: 0.0257 - accuracy: 0.9910 - val_loss: 0.0142 - val_accuracy: 0.9968\n",
            "Epoch 10/20\n",
            "79/79 [==============================] - 0s 5ms/step - loss: 0.0242 - accuracy: 0.9926 - val_loss: 0.0139 - val_accuracy: 0.9968\n",
            "Epoch 11/20\n",
            "79/79 [==============================] - 0s 4ms/step - loss: 0.0177 - accuracy: 0.9966 - val_loss: 0.0135 - val_accuracy: 0.9968\n",
            "Epoch 12/20\n",
            "79/79 [==============================] - 0s 4ms/step - loss: 0.0849 - accuracy: 0.9824 - val_loss: 0.0385 - val_accuracy: 0.9937\n",
            "Epoch 13/20\n",
            "79/79 [==============================] - 0s 4ms/step - loss: 0.0455 - accuracy: 0.9877 - val_loss: 0.0081 - val_accuracy: 0.9968\n",
            "Epoch 14/20\n",
            "79/79 [==============================] - 0s 4ms/step - loss: 0.0177 - accuracy: 0.9962 - val_loss: 0.0081 - val_accuracy: 0.9984\n",
            "Epoch 15/20\n",
            "79/79 [==============================] - 0s 4ms/step - loss: 0.0306 - accuracy: 0.9931 - val_loss: 0.0338 - val_accuracy: 0.9889\n",
            "Epoch 16/20\n",
            "79/79 [==============================] - 0s 4ms/step - loss: 0.0468 - accuracy: 0.9943 - val_loss: 0.0116 - val_accuracy: 0.9984\n",
            "Epoch 17/20\n",
            "79/79 [==============================] - 0s 4ms/step - loss: 0.0168 - accuracy: 0.9952 - val_loss: 0.0066 - val_accuracy: 0.9984\n",
            "Epoch 18/20\n",
            "79/79 [==============================] - 0s 4ms/step - loss: 0.0064 - accuracy: 0.9990 - val_loss: 0.0296 - val_accuracy: 0.9968\n",
            "Epoch 19/20\n",
            "79/79 [==============================] - 0s 4ms/step - loss: 0.0044 - accuracy: 0.9984 - val_loss: 0.0274 - val_accuracy: 0.9968\n",
            "Epoch 20/20\n",
            "79/79 [==============================] - 0s 4ms/step - loss: 0.0356 - accuracy: 0.9915 - val_loss: 0.0082 - val_accuracy: 0.9984\n"
          ],
          "name": "stdout"
        }
      ]
    },
    {
      "cell_type": "code",
      "metadata": {
        "id": "tbsJk2w76NH4",
        "colab": {
          "base_uri": "https://localhost:8080/",
          "height": 295
        },
        "outputId": "92fc4d07-c893-4b5f-aac5-54d8c7b9a270"
      },
      "source": [
        "# accuracy \n",
        "plt.figure(0)\n",
        "plt.plot(history.history['accuracy'], label='training accuracy')\n",
        "plt.plot(history.history['val_accuracy'], label='val accuracy')\n",
        "plt.title('Accuracy')\n",
        "plt.xlabel('epochs')\n",
        "plt.ylabel('accuracy')\n",
        "plt.legend()\n",
        "plt.show()"
      ],
      "execution_count": null,
      "outputs": [
        {
          "output_type": "display_data",
          "data": {
            "image/png": "[encoded data removed]",
            "text/plain": [
              "<Figure size 432x288 with 1 Axes>"
            ]
          },
          "metadata": {
            "tags": [],
            "needs_background": "light"
          }
        }
      ]
    },
    {
      "cell_type": "code",
      "metadata": {
        "id": "QmtKDzKp6NH5",
        "colab": {
          "base_uri": "https://localhost:8080/",
          "height": 295
        },
        "outputId": "ad713322-addc-4caf-b29d-26fea25d4b48"
      },
      "source": [
        "# Loss\n",
        "plt.plot(history.history['loss'], label='training loss')\n",
        "plt.plot(history.history['val_loss'], label='val loss')\n",
        "plt.title('Loss')\n",
        "plt.xlabel('epochs')\n",
        "plt.ylabel('loss')\n",
        "plt.legend()\n",
        "plt.show()"
      ],
      "execution_count": null,
      "outputs": [
        {
          "output_type": "display_data",
          "data": {
            "image/png": "[encoded data removed]",
            "text/plain": [
              "<Figure size 432x288 with 1 Axes>"
            ]
          },
          "metadata": {
            "tags": [],
            "needs_background": "light"
          }
        }
      ]
    },
    {
      "cell_type": "markdown",
      "metadata": {
        "id": "oS4MeztQ6NH5"
      },
      "source": [
        "## Let's do testing on Test data"
      ]
    },
    {
      "cell_type": "code",
      "metadata": {
        "id": "z8Bd4q_L6NH5"
      },
      "source": [
        "def testing(testcsv):\n",
        "    y_test = pd.read_csv(testcsv)\n",
        "    label = y_test[\"ClassId\"].values\n",
        "    imgs = y_test[\"Path\"].values\n",
        "    data=[]\n",
        "    for img in imgs:\n",
        "        image = Image.open(img)\n",
        "        image = image.resize((30,30))\n",
        "        data.append(np.array(image))\n",
        "    X_test=np.array(data)\n",
        "    return X_test,label"
      ],
      "execution_count": null,
      "outputs": []
    },
    {
      "cell_type": "code",
      "metadata": {
        "id": "cyn0Sj6G6NH5"
      },
      "source": [
        "X_test, label = testing('/content/drive/My Drive/VRA-CS2225.CH1801.N014/vra/archive/Test - Test.csv')"
      ],
      "execution_count": null,
      "outputs": []
    },
    {
      "cell_type": "code",
      "metadata": {
        "id": "UjxvOYhg6NH5",
        "colab": {
          "base_uri": "https://localhost:8080/"
        },
        "outputId": "7547d1c2-cfb7-407b-8845-7e98c5c5da91"
      },
      "source": [
        "Y_pred = model.predict_classes(X_test)\n",
        "Y_pred"
      ],
      "execution_count": null,
      "outputs": [
        {
          "output_type": "stream",
          "text": [
            "/usr/local/lib/python3.6/dist-packages/tensorflow/python/keras/engine/sequential.py:450: UserWarning: `model.predict_classes()` is deprecated and will be removed after 2021-01-01. Please use instead:* `np.argmax(model.predict(x), axis=-1)`,   if your model does multi-class classification   (e.g. if it uses a `softmax` last-layer activation).* `(model.predict(x) > 0.5).astype(\"int32\")`,   if your model does binary classification   (e.g. if it uses a `sigmoid` last-layer activation).\n",
            "  warnings.warn('`model.predict_classes()` is deprecated and '\n"
          ],
          "name": "stderr"
        },
        {
          "output_type": "execute_result",
          "data": {
            "text/plain": [
              "array([16,  1, 38, ...,  1,  7, 10])"
            ]
          },
          "metadata": {
            "tags": []
          },
          "execution_count": 31
        }
      ]
    },
    {
      "cell_type": "markdown",
      "metadata": {
        "id": "P9jXD_SD6NH6"
      },
      "source": [
        "## Accuracy with the test data"
      ]
    },
    {
      "cell_type": "code",
      "metadata": {
        "id": "DiQWdK1k6NH6",
        "colab": {
          "base_uri": "https://localhost:8080/"
        },
        "outputId": "f7ece9c0-1323-47d0-80d7-9c3a67f05674"
      },
      "source": [
        "from sklearn.metrics import accuracy_score\n",
        "print(accuracy_score(label, Y_pred))"
      ],
      "execution_count": null,
      "outputs": [
        {
          "output_type": "stream",
          "text": [
            "0.9491686460807601\n"
          ],
          "name": "stdout"
        }
      ]
    },
    {
      "cell_type": "markdown",
      "metadata": {
        "id": "1Pdy2Bn66NH6"
      },
      "source": [
        "## Save the model"
      ]
    },
    {
      "cell_type": "code",
      "metadata": {
        "id": "HU5NnNvF6NH6"
      },
      "source": [
        "model.save(\"/content/drive/My Drive/VRA-CS2225.CH1801.N014/vra/NhaModelVRA.h5\")"
      ],
      "execution_count": null,
      "outputs": []
    },
    {
      "cell_type": "markdown",
      "metadata": {
        "id": "o8jo248F6NH6"
      },
      "source": [
        "## Load the Model"
      ]
    },
    {
      "cell_type": "code",
      "metadata": {
        "id": "HwUWkLmA6NH7"
      },
      "source": [
        "import os\n",
        "os.chdir(r'/content/drive/My Drive/VRA-CS2225.CH1801.N014/')\n",
        "from keras.models import load_model\n",
        "model = load_model('/content/drive/My Drive/VRA-CS2225.CH1801.N014/vra/NhaModelVRA.h5')"
      ],
      "execution_count": null,
      "outputs": []
    },
    {
      "cell_type": "code",
      "metadata": {
        "id": "xbYN-rga6NH7"
      },
      "source": [
        "# Classes of trafic signs\n",
        "classes = { 0:'Biển báo giới hạn tốc độ (20km/h)',\n",
        "            1:'Biển báo dừng', \n",
        "            2:'Biển báo hiệu đèn xanh đèn đỏ', \n",
        "            3:'Biển báo lệnh đi thẳng', \n",
        "            4:'Biển báo vòng xoay', \n",
        "            5:'Biển báo cấm xe tải vượt',  }"
      ],
      "execution_count": null,
      "outputs": []
    },
    {
      "cell_type": "code",
      "metadata": {
        "id": "7sN0gUO36NH7"
      },
      "source": [
        "from PIL import Image\n",
        "import numpy as np\n",
        "import matplotlib.pyplot as plt\n",
        "def test_on_img(img):\n",
        "    data=[]\n",
        "    image = Image.open(img)\n",
        "    image = image.resize((30,30))\n",
        "    data.append(np.array(image))\n",
        "    X_test=np.array(data)\n",
        "    Y_pred = model.predict_classes(X_test)\n",
        "    return image,Y_pred"
      ],
      "execution_count": null,
      "outputs": []
    },
    {
      "cell_type": "code",
      "metadata": {
        "id": "itIPgtjK6NH7",
        "colab": {
          "base_uri": "https://localhost:8080/",
          "height": 337
        },
        "outputId": "eefaa02c-9a47-49f2-c45d-222679db6e10"
      },
      "source": [
        "plot,prediction = test_on_img(r'/content/drive/My Drive/VRA-CS2225.CH1801.N014/vra/test/01695.png')\n",
        "s = [str(i) for i in prediction] \n",
        "a = int(\"\".join(s)) \n",
        "print(\"Kết quả: \", classes[a])\n",
        "plt.imshow(plot)\n",
        "plt.show()"
      ],
      "execution_count": null,
      "outputs": [
        {
          "output_type": "stream",
          "text": [
            "Kết quả:  Biển báo hiệu đèn xanh đèn đỏ\n"
          ],
          "name": "stdout"
        },
        {
          "output_type": "stream",
          "text": [
            "/usr/local/lib/python3.6/dist-packages/tensorflow/python/keras/engine/sequential.py:450: UserWarning: `model.predict_classes()` is deprecated and will be removed after 2021-01-01. Please use instead:* `np.argmax(model.predict(x), axis=-1)`,   if your model does multi-class classification   (e.g. if it uses a `softmax` last-layer activation).* `(model.predict(x) > 0.5).astype(\"int32\")`,   if your model does binary classification   (e.g. if it uses a `sigmoid` last-layer activation).\n",
            "  warnings.warn('`model.predict_classes()` is deprecated and '\n"
          ],
          "name": "stderr"
        },
        {
          "output_type": "display_data",
          "data": {
            "image/png": "[encoded data removed]",
            "text/plain": [
              "<Figure size 432x288 with 1 Axes>"
            ]
          },
          "metadata": {
            "tags": [],
            "needs_background": "light"
          }
        }
      ]
    },
    {
      "cell_type": "code",
      "metadata": {
        "id": "0LFGZxbL6NH8"
      },
      "source": [
        ""
      ],
      "execution_count": null,
      "outputs": []
    }
  ]
}